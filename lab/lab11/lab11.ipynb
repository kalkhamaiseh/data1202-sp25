{
 "cells": [
  {
   "cell_type": "code",
   "execution_count": null,
   "id": "8ec41a13",
   "metadata": {
    "deletable": false,
    "editable": false
   },
   "outputs": [],
   "source": [
    "# Initialize Otter\n",
    "import otter\n",
    "grader = otter.Notebook(\"lab11.ipynb\")"
   ]
  },
  {
   "cell_type": "markdown",
   "id": "d3653bb1-47f1-4e7d-b1b1-84851a78d6a1",
   "metadata": {},
   "source": [
    "# Lab 11: Resampling and the Bootstrap\n",
    "\n",
    "Welcome to Lab 11! This covers the topics listed below: \n",
    "\n",
    "- Simulation (see [CIT 9.3](https://inferentialthinking.com/chapters/09/3/Simulation.html))\n",
    "- Sampling (see [CIT 10](https://inferentialthinking.com/chapters/10/Sampling_and_Empirical_Distributions.html))\n",
    "- Bootstrapping (see [CIT 13](https://inferentialthinking.com/chapters/13/Estimation.html))\n"
   ]
  },
  {
   "cell_type": "markdown",
   "id": "779539f7-2efe-405c-b9f1-6319aa076027",
   "metadata": {},
   "source": [
    "The British Royal Air Force wanted to know how many warplanes the Germans had (some number `N`, which is a *parameter*), and they needed to estimate that quantity knowing only a random sample of the planes' serial numbers (from 1 to `N`). We know that the German's warplanes are labeled consecutively from 1 to `N`, so `N` would be the total number of warplanes they have. \n",
    "\n",
    "We normally investigate the random variation among our estimates by simulating a sampling procedure from the population many times and computing estimates from each sample that we generate.  In real life, if the RAF had known what the population looked like, they would have known `N` and would not have had any reason to think about random sampling. However, they didn't know what the population looked like, so they couldn't have run the simulations that we normally do.  \n",
    "\n",
    "Simulating a sampling procedure many times was a useful exercise in *understanding random variation* for an estimate, but it's not as useful as a tool for practical data analysis.\n",
    "\n",
    "Let's flip that sampling idea on its head to make it practical. Given *just* a random sample of serial numbers, we'll estimate `N`, and then we'll use simulation to find out how accurate our estimate probably is, without ever looking at the whole population.  This is an example of *statistical inference*.\n",
    "\n",
    "As usual, **run the cell below** to prepare the lab and the automatic tests."
   ]
  },
  {
   "cell_type": "code",
   "execution_count": null,
   "id": "98e2ab3a-cb6a-481f-ae78-e9dc5dc5279f",
   "metadata": {},
   "outputs": [],
   "source": [
    "# Run this cell to set up the notebook, but please don't change it.\n",
    "\n",
    "# These lines import the Numpy and Datascience modules.\n",
    "import numpy as np\n",
    "from datascience import *\n",
    "\n",
    "# These lines do some fancy plotting magic.\n",
    "import matplotlib\n",
    "%matplotlib inline\n",
    "import matplotlib.pyplot as plt\n",
    "plt.style.use('fivethirtyeight')\n",
    "import warnings\n",
    "warnings.simplefilter('ignore', (FutureWarning, np.VisibleDeprecationWarning))\n",
    "\n",
    "import d8error"
   ]
  },
  {
   "cell_type": "markdown",
   "id": "72d4a1c9-321a-486a-998e-e20d95e43bdb",
   "metadata": {},
   "source": [
    "## 1. Preliminaries\n",
    "\n",
    "We (the RAF in World War II) want to know the number of warplanes fielded by the Germans.  That number is `N`.  The warplanes have serial numbers from 1 to `N`, so `N` is also equal to the largest serial number on any of the warplanes.\n",
    "\n",
    "We only see a small number of serial numbers (assumed to be a random sample with replacement from among all the serial numbers), so we have to use estimation."
   ]
  },
  {
   "cell_type": "markdown",
   "id": "6832973d-a8cd-48ef-a200-7e2f23927c53",
   "metadata": {
    "deletable": false,
    "editable": false
   },
   "source": [
    "**Question 1.1**  Is `N` a population parameter or a statistic? If we compute a number using our random sample that's an estimate of `N`, is that a population parameter or a statistic? Assign either 1, 2, 3, or 4 to the variable q1_1 below.\n",
    "\n",
    "1. `N` is a population parameter. An estimate of `N` from our random sample is a population parameter.\n",
    "2. `N` is a population parameter. An estimate of `N` from our random sample is a statistic.\n",
    "3. `N` is a statistic. An estimate of `N` from our random sample is a population parameter.\n",
    "4. `N` is a statistic. An estimate of `N` from our random sample is a statistic."
   ]
  },
  {
   "cell_type": "code",
   "execution_count": null,
   "id": "f01b79d4-918c-4379-bf8e-d971ab7375d9",
   "metadata": {
    "tags": []
   },
   "outputs": [],
   "source": [
    "q1_1 = ..."
   ]
  },
  {
   "cell_type": "code",
   "execution_count": null,
   "id": "10a2473e",
   "metadata": {
    "deletable": false,
    "editable": false
   },
   "outputs": [],
   "source": [
    "grader.check(\"q11\")"
   ]
  },
  {
   "cell_type": "markdown",
   "id": "a28624c2-2cd4-4135-8456-85f78afc701b",
   "metadata": {},
   "source": [
    "To make the situation realistic, we're going to hide the true number of warplanes from you.  You'll have access only to this random sample:"
   ]
  },
  {
   "cell_type": "code",
   "execution_count": null,
   "id": "7bf69dbb-820a-4b5d-ba8c-2eb859f012f4",
   "metadata": {},
   "outputs": [],
   "source": [
    "observations = Table.read_table(\"serial_numbers.csv\")\n",
    "num_observations = observations.num_rows\n",
    "observations"
   ]
  },
  {
   "cell_type": "markdown",
   "id": "ce102cee-36a9-4d90-8846-9cce7d4593ae",
   "metadata": {
    "deletable": false,
    "editable": false
   },
   "source": [
    "**Question 1.2** Since we are trying to estimate the population maximum, `N`, a natural statistic to use is the sample **maximum**. In other words, we can estimate the total number of tanks using the biggest serial number in our sample.\n",
    "\n",
    "Below, complete the implementation of the function `calculate_max_based_estimate`, which computes that statistic on an array of serial numbers. It should take as its argument an array of serial numbers and return their maximum.\n",
    "\n",
    "After that, use it to compute an estimate of `N` using the serial numbers in `observations`. Call the estimate `max_based_estimate`."
   ]
  },
  {
   "cell_type": "code",
   "execution_count": null,
   "id": "201efbda-c153-4ba4-b937-02e2aef18253",
   "metadata": {
    "tags": []
   },
   "outputs": [],
   "source": [
    "def calculate_max_based_estimate(nums):\n",
    "    ...\n",
    "\n",
    "max_based_estimate = ...\n",
    "max_based_estimate"
   ]
  },
  {
   "cell_type": "code",
   "execution_count": null,
   "id": "bf820e9d",
   "metadata": {
    "deletable": false,
    "editable": false
   },
   "outputs": [],
   "source": [
    "grader.check(\"q12\")"
   ]
  },
  {
   "cell_type": "markdown",
   "id": "80248434-03f8-476b-b4f6-7e30cedaaf86",
   "metadata": {
    "deletable": false,
    "editable": false
   },
   "source": [
    "**Question 1.3** Another way to estimate `N` is to take **twice the mean** of the serial numbers in our sample. This is based on the idea that the mean of a random sample of the numbers `1` through `N` usually falls about halfway between `1` and `N`. So we can estimate `N` by doubling this mean.\n",
    "\n",
    "Below, write a function called `calculate_mean_based_estimate` that computes that statistic. It should take as its argument a Series of serial numbers and return twice their mean.\n",
    "\n",
    "After that, use it to compute an estimate of `N` using the serial numbers in `observations`. Call the estimate `mean_based_estimate`."
   ]
  },
  {
   "cell_type": "code",
   "execution_count": null,
   "id": "e0125c09-eb12-4ba3-af6c-fd517965ac20",
   "metadata": {
    "tags": []
   },
   "outputs": [],
   "source": [
    "def calculate_mean_based_estimate(nums):\n",
    "    ...\n",
    "\n",
    "mean_based_estimate = ...\n",
    "mean_based_estimate"
   ]
  },
  {
   "cell_type": "code",
   "execution_count": null,
   "id": "1019d070",
   "metadata": {
    "deletable": false,
    "editable": false
   },
   "outputs": [],
   "source": [
    "grader.check(\"q13\")"
   ]
  },
  {
   "cell_type": "markdown",
   "id": "f58fc3a5-11d8-42a5-bbf5-938daa07480f",
   "metadata": {
    "deletable": false,
    "editable": false
   },
   "source": [
    "**Question 1.4** Look at the values of the `max_based_estimate` and `mean_based_estimate` that we get for our dataset."
   ]
  },
  {
   "cell_type": "code",
   "execution_count": null,
   "id": "a50f0117-6a8c-4d4c-b6d4-4da3932fc2f1",
   "metadata": {
    "deletable": false,
    "editable": false
   },
   "outputs": [],
   "source": [
    "max_based_estimate"
   ]
  },
  {
   "cell_type": "code",
   "execution_count": null,
   "id": "3c1bac40-bcc0-448c-8145-f2206da68e78",
   "metadata": {
    "deletable": false,
    "editable": false
   },
   "outputs": [],
   "source": [
    "mean_based_estimate"
   ]
  },
  {
   "cell_type": "markdown",
   "id": "de4d6f44-67e8-4a2b-8aa4-6e4e5963cdd1",
   "metadata": {
    "deletable": false,
    "editable": false
   },
   "source": [
    "The value of `max_based_estimate` tells you something about `mean_based_estimate`.  Could our current `mean_based_estimate` possibly be equal to `N` (at least if we round it to the nearest integer)?  If not, is it definitely higher, definitely lower, or can we not tell?  Assign one of the choices (1-6) to the variable `q1_4` below. \n",
    "1. Yes, our `mean_based_estimate` for this sample could equal `N`.\n",
    "2. No, our `mean_based_estimate` for this sample cannot be equal to `N`, it is definitely lower by roughly 3.\n",
    "3. No, our `mean_based_estimate` for this sample cannot be equal to `N`, it is definitely lower by at least 12.\n",
    "4. No, our `mean_based_estimate` for this sample cannot be equal to `N`, it is definitely higher by roughly 3.\n",
    "5. No, our `mean_based_estimate` for this sample cannot be equal to `N`, it is definitely higher by at least 12.\n",
    "6. No, our `mean_based_estimate` for this sample cannot be equal to `N`, but we cannot tell if it is lower or higher."
   ]
  },
  {
   "cell_type": "code",
   "execution_count": null,
   "id": "4dd689cc-c62f-4804-ac23-338e5fae71d9",
   "metadata": {
    "tags": []
   },
   "outputs": [],
   "source": [
    "q1_4 = ..."
   ]
  },
  {
   "cell_type": "code",
   "execution_count": null,
   "id": "4c9a065e",
   "metadata": {
    "deletable": false,
    "editable": false
   },
   "outputs": [],
   "source": [
    "grader.check(\"q14\")"
   ]
  },
  {
   "cell_type": "markdown",
   "id": "b81d38eb-a462-42de-a998-8e84cd5711e9",
   "metadata": {},
   "source": [
    "We can't just confidently proclaim that `max_estimate` or `mean_based_estimate` is equal to `N`.  What if we're really far off?  So we want to get a sense of the accuracy of our estimates."
   ]
  },
  {
   "cell_type": "markdown",
   "id": "c8e4145e-e9d6-4fed-b91a-0b029cd8383b",
   "metadata": {},
   "source": [
    "## 2. Resampling \n",
    "\n",
    "To do this, we'll use resampling.  That is, we won't exactly simulate the observations the RAF would have really seen.  Rather we sample from our current sample, or \"resample.\"\n",
    "\n",
    "Why does that make any sense?\n",
    "\n",
    "When we tried to find the value of `N`, we ideally would like to use the whole population.  Since we only have a sample, we used that to estimate `N` instead.\n",
    "\n",
    "This time, we would like to use the population of serial numbers to draw more samples and run a simulation about estimates of `N`.  But we still only have our sample.  So, we **use our sample in place of the population** to run the simulation. We resample from our original sample with replacement as many times as there are elements in the original sample. This resampling technique is called *bootstrapping*. \n",
    "\n",
    "Note that in order for bootstrapping to work well, you must start with a large, random sample. Then the Law of Averages says that with high probability, your sample is representative of the population."
   ]
  },
  {
   "cell_type": "markdown",
   "id": "e45dcf78-a6d2-49f1-be43-a8aca4e9c0ea",
   "metadata": {
    "deletable": false,
    "editable": false
   },
   "source": [
    "**Question 2.1** Write a function called `simulate_resample`.  It should generate a resample from the observed serial numbers in `observations` and return that resample.  (The resample should be a table like `observations`.)  It should take no arguments.\n",
    "\n",
    "*Hint:* use `sample()` method."
   ]
  },
  {
   "cell_type": "code",
   "execution_count": null,
   "id": "f677e803-8d7d-434b-96ee-0112d16ce8ea",
   "metadata": {
    "tags": []
   },
   "outputs": [],
   "source": [
    "def simulate_resample():\n",
    "    ...\n",
    "\n",
    "# This is a little magic to make sure that you see the same results we did – don't change it.\n",
    "np.random.seed(123)\n",
    "\n",
    "# Don't change the line below!\n",
    "one_resample = simulate_resample()\n",
    "one_resample"
   ]
  },
  {
   "cell_type": "code",
   "execution_count": null,
   "id": "6a2d67a2",
   "metadata": {
    "deletable": false,
    "editable": false
   },
   "outputs": [],
   "source": [
    "grader.check(\"q21\")"
   ]
  },
  {
   "cell_type": "markdown",
   "id": "73c7d4ff-09f1-406c-bdd3-1c541e68f645",
   "metadata": {},
   "source": [
    "We'll use many resamples at once to see what estimates typically look like.  However, we don't often pay attention to single resamples, so it's easy to misunderstand them.  Let's first answer some questions about our resample."
   ]
  },
  {
   "cell_type": "markdown",
   "id": "5ae1ab3a-7694-4d51-b6bc-174a16d5eff4",
   "metadata": {
    "deletable": false,
    "editable": false
   },
   "source": [
    "**Question 2.2** Which of the following statements are true?\n",
    "\n",
    "1. The resample can contain serial numbers that are not in the original sample.\n",
    "2. The original sample can contain serial numbers that are not in the resample.\n",
    "3. The resample has either zero, one, or more than one copy of each serial number.\n",
    "4. The original sample has exactly one copy of each serial number.\n",
    "\n",
    "Assign `true_statements` to a list of the number(s) corresponding to correct statements.\n"
   ]
  },
  {
   "cell_type": "code",
   "execution_count": null,
   "id": "f763a7e0-30b3-4c6e-953e-beb603c4a2e9",
   "metadata": {
    "tags": []
   },
   "outputs": [],
   "source": [
    "true_statements = ..."
   ]
  },
  {
   "cell_type": "code",
   "execution_count": null,
   "id": "b96653ff",
   "metadata": {
    "deletable": false,
    "editable": false
   },
   "outputs": [],
   "source": [
    "grader.check(\"q22\")"
   ]
  },
  {
   "cell_type": "markdown",
   "id": "f3877777-9e0b-44cc-baae-32831092d3c3",
   "metadata": {},
   "source": [
    "Now let's write a function to do many resamples at once.\n",
    "\n",
    "Since resampling from a sample looks just like sampling from a population, the code should look almost the same.  That means we can write a function that simulates the process of either sampling from a population or resampling from a sample.  If we pass in population as its argument, it will do the former; if we pass in a sample, it will do the latter.\n",
    "\n",
    "\n"
   ]
  },
  {
   "cell_type": "markdown",
   "id": "0d1b9bab-022b-4c92-baf4-92e9b3b2c3cd",
   "metadata": {
    "deletable": false,
    "editable": false
   },
   "source": [
    "**Question 2.3**\n",
    "Write a function called `bootstrap_estimates`.  It should take 4 arguments:\n",
    "1. `original_table`: A table from which the data should be sampled.  The table will have one column named `serial number`.\n",
    "2. `sample_size`: The size of each sample from that table, an integer.  \n",
    "    - For example, to bootstrap, we would pass in the number of rows in the table.\n",
    "3. `statistic`: A *function* that takes in an array of serial numbers as its argument and computes a statistic from the array (i.e. returns a calculated number). \n",
    "4. `num_replicates`: The number of replications to perform.\n",
    "\n",
    "The function should simulate many samples **with replacement** from the given table.  (The number of times it does this is the 4th argument.)  \n",
    "\n",
    "For each of those samples, it should compute the statistic on that sample. Then it should **return an array** containing each of those statistics.  The code below provides an example use of your function and describes how you can verify that you've written it correctly.\n",
    "\n",
    "*Check your answer:* The histogram you see should be a roughly bell-shaped curve centered at 1000 with most of its area in the interval [800, 1200]."
   ]
  },
  {
   "cell_type": "code",
   "execution_count": null,
   "id": "25552111-a9f5-4aae-a37f-38719707da56",
   "metadata": {
    "tags": []
   },
   "outputs": [],
   "source": [
    "def bootstrap_estimates(original_table, sample_size, statistic, num_replicates):\n",
    "    ...\n",
    "\n",
    "# Don't change the code below this comment!\n",
    "# This should generate an empirical histogram of twice-mean-based estimates\n",
    "# of N from samples of size 50 if N is 1000.  This should be a bell-shaped\n",
    "# curve centered at 1000 with most of its mass in [800, 1200].  To verify your\n",
    "# answer, make sure that's what you see!\n",
    "example_estimates = bootstrap_estimates(\n",
    "    Table().with_column(\"serial number\", np.arange(1, 1000+1)),\n",
    "    50,\n",
    "    calculate_mean_based_estimate,\n",
    "    10000)\n",
    "Table().with_column(\"mean-based estimate\", example_estimates).hist(bins=np.arange(0, 1500, 25))"
   ]
  },
  {
   "cell_type": "code",
   "execution_count": null,
   "id": "29466f4b",
   "metadata": {
    "deletable": false,
    "editable": false
   },
   "outputs": [],
   "source": [
    "grader.check(\"q23\")"
   ]
  },
  {
   "cell_type": "markdown",
   "id": "d17b25fd-0673-4003-b405-096d757114d1",
   "metadata": {},
   "source": [
    "Now we can go back to the sample we actually observed (the table `observations`) and estimate how much our mean-based estimate of `N` would have varied from sample to sample."
   ]
  },
  {
   "cell_type": "markdown",
   "id": "3bd984b0-6b01-4109-b2d3-2b40d89c5134",
   "metadata": {
    "deletable": false,
    "editable": false
   },
   "source": [
    "**Question 2.4** Using the bootstrap and the sample `observations`, simulate the approximate distribution of *mean-based estimates* of `N`.  Use 10,000 replications and save the estimates in an array called `bootstrap_mean_based_estimates`.  \n",
    "\n",
    "*Hint*: Use the `bootstrap_estimates` function. \n",
    "\n",
    "We have provided code that plots a histogram, allowing you to visualize the simulated estimates.\n"
   ]
  },
  {
   "cell_type": "code",
   "execution_count": null,
   "id": "0f9065eb-c16f-4aa5-956e-a202cddd3d23",
   "metadata": {
    "tags": []
   },
   "outputs": [],
   "source": [
    "bootstrap_mean_based_estimates = bootstrap_estimates(observations, \n",
    "                                                     observations.num_rows, \n",
    "                                                     calculate_mean_based_estimate, \n",
    "                                                     ...\n",
    "\n",
    "# Don't change the code below! This plots bootstrap_mean_based_estimates.\n",
    "(Table()\n",
    " .with_column(\"mean-based estimate\", bootstrap_mean_based_estimates)\n",
    " .hist(bins=np.arange(0, 200, 4)) \n",
    ")"
   ]
  },
  {
   "cell_type": "code",
   "execution_count": null,
   "id": "5182503b",
   "metadata": {
    "deletable": false,
    "editable": false
   },
   "outputs": [],
   "source": [
    "grader.check(\"q24\")"
   ]
  },
  {
   "cell_type": "markdown",
   "id": "a1ab8e76-1d92-4bb7-a049-da57f13a7dcf",
   "metadata": {
    "deletable": false,
    "editable": false
   },
   "source": [
    "**Question 2.5** Using the bootstrap and the sample `observations`, simulate the approximate distribution of *max estimates* of `N`.  Use 10,000 replications and save the estimates in an array called `bootstrap_max_estimates`.\n",
    "\n",
    "We have provided code that plots a histogram, allowing you to visualize the simulated estimates.\n"
   ]
  },
  {
   "cell_type": "code",
   "execution_count": null,
   "id": "c199cd22-e002-4e4c-8a4a-65c6d00f163c",
   "metadata": {
    "tags": []
   },
   "outputs": [],
   "source": [
    "bootstrap_max_estimates = bootstrap_estimates(observations, \n",
    "                                              observations.num_rows, \n",
    "                                              calculate_max_based_estimate, \n",
    "                                              ...\n",
    "\n",
    "# Don't change the code below! This plots bootstrap_max_estimates.\n",
    "Table().with_column(\"max estimate\", bootstrap_max_estimates).hist(bins=np.arange(0, 200, 4)) "
   ]
  },
  {
   "cell_type": "code",
   "execution_count": null,
   "id": "a99faa0f",
   "metadata": {
    "deletable": false,
    "editable": false
   },
   "outputs": [],
   "source": [
    "grader.check(\"q25\")"
   ]
  },
  {
   "cell_type": "markdown",
   "id": "903ae7a6-67f5-4941-9102-4026793c457c",
   "metadata": {
    "deletable": false,
    "editable": false
   },
   "source": [
    "<!-- BEGIN QUESTION -->\n",
    "\n",
    "**Question 2.6** `N` was actually 150! Compare the histograms of estimates you generated in 2.4 and 2.5 and answer the following questions:\n",
    "\n",
    "1. How does the distribution of values for the mean-based estimates differ from the max estimates?\n",
    "2. Which estimator should be used with the bootstrap procedure?"
   ]
  },
  {
   "cell_type": "markdown",
   "id": "06c17c51",
   "metadata": {},
   "source": [
    "_Type your answer here, replacing this text._"
   ]
  },
  {
   "cell_type": "markdown",
   "id": "a6a6182d-04f3-4bdf-92ea-b814b9b4086e",
   "metadata": {
    "deletable": false,
    "editable": false
   },
   "source": [
    "<!-- END QUESTION -->\n",
    "\n",
    "## Computing Intervals"
   ]
  },
  {
   "cell_type": "markdown",
   "id": "3251b4d3-cbfd-42c1-a886-8d5c5fb185a3",
   "metadata": {
    "deletable": false,
    "editable": false
   },
   "source": [
    "**Question 3.1** Compute an interval that covers the middle 95% of the mean-based bootstrap estimates.  Assign your values to `left_end_1` and `right_end_1`. \n",
    "\n",
    "*Hint:* Use the `percentile` function! Read up on its documentation [here](https://www.data8.org/datascience/reference-nb/datascience-reference.html#percentile()).\n",
    "\n",
    "Verify that your interval looks like it covers 95% of the area in the histogram. The red dot on the histogram is the value of the parameter (150)."
   ]
  },
  {
   "cell_type": "code",
   "execution_count": null,
   "id": "de35a48b-9561-454b-871a-8eeb591bd329",
   "metadata": {
    "tags": []
   },
   "outputs": [],
   "source": [
    "left_end_1 = ...\n",
    "right_end_1 = ...\n",
    "print(\"Middle 95% of bootstrap estimates: [{:f}, {:f}]\".format(left_end_1, right_end_1))\n",
    "\n",
    "# Don't change the code below! It draws your interval and N on the histogram of mean-based estimates.\n",
    "Table().with_column(\"mean-based estimate\", bootstrap_mean_based_estimates).hist(bins=np.arange(0, 200, 4)) \n",
    "plt.plot(make_array(left_end_1, right_end_1), make_array(0, 0), color='yellow', lw=3, zorder=1)\n",
    "plt.scatter(150, 0, color='red', s=30, zorder=2);"
   ]
  },
  {
   "cell_type": "code",
   "execution_count": null,
   "id": "ba4d328b",
   "metadata": {
    "deletable": false,
    "editable": false
   },
   "outputs": [],
   "source": [
    "grader.check(\"q31\")"
   ]
  },
  {
   "cell_type": "markdown",
   "id": "a65f5e57-f2ae-4ca5-a5cc-fee640b496bf",
   "metadata": {
    "deletable": false,
    "editable": false
   },
   "source": [
    "**Question 3.2** Write code that simulates the sampling and bootstrapping process again, as follows:\n",
    "\n",
    "1. Generate a new set of random observations the RAF might have seen by sampling from the `population` table we have created for you below. Use the sample size of 70.\n",
    "2. Compute an estimate of `N` from these new observations, using `calculate_mean_based_estimate`.\n",
    "3. Using only the new observations, compute 10,000 bootstrap estimates of `N`.\n",
    "4. Plot these bootstrap estimates and compute an interval covering the middle 95%."
   ]
  },
  {
   "cell_type": "code",
   "execution_count": null,
   "id": "f89cdf0e-9df4-4a0d-912a-3aeae01188e8",
   "metadata": {
    "tags": []
   },
   "outputs": [],
   "source": [
    "population = Table().with_column(\"serial number\", np.arange(1, 150+1))\n",
    "\n",
    "new_observations = ...\n",
    "new_mean_based_estimate = ...\n",
    "new_bootstrap_estimates = bootstrap_estimates(new_observations, \n",
    "                                              new_observations.num_rows,\n",
    "                                              calculate_mean_based_estimate, \n",
    "                                              ...\n",
    "                                              \n",
    "Table().with_column(\"mean-based estimate\", new_bootstrap_estimates).hist(bins=np.arange(0, 252, 4))\n",
    "new_left_end = ...\n",
    "new_right_end = ...\n",
    "\n",
    "# Don't change code below this line!\n",
    "print(\"New mean-based estimate: {:f}\".format(new_mean_based_estimate))\n",
    "print(\"Middle 95% of bootstrap estimates: [{:f}, {:f}]\".format(new_left_end, new_right_end))\n",
    "\n",
    "plt.plot(make_array(new_left_end, new_right_end), make_array(0, 0), color='yellow', lw=3, zorder=1)\n",
    "plt.scatter(150, 0, color='red', s=30, zorder=2);"
   ]
  },
  {
   "cell_type": "code",
   "execution_count": null,
   "id": "51417f14",
   "metadata": {
    "deletable": false,
    "editable": false
   },
   "outputs": [],
   "source": [
    "grader.check(\"q32\")"
   ]
  },
  {
   "cell_type": "markdown",
   "id": "fbfdbdfa-b1c3-4849-8d81-4665f3521aba",
   "metadata": {
    "deletable": false,
    "editable": false
   },
   "source": [
    "**Question 3.3** If you ran your cell above many, many times, approximately what percentage of the intervals you created would include `N` (150 in this case)? Assign either 1, 2, 3, 4, or 5 to the variable q3_3 below.\n",
    "\n",
    "1. 100%\n",
    "2. 97.5%\n",
    "3. 95%\n",
    "4. 5%\n",
    "5. It's impossible to tell."
   ]
  },
  {
   "cell_type": "code",
   "execution_count": null,
   "id": "71467c7d-c3ae-43da-beec-f0e44bc96d37",
   "metadata": {
    "tags": []
   },
   "outputs": [],
   "source": [
    "q3_3 = ..."
   ]
  },
  {
   "cell_type": "code",
   "execution_count": null,
   "id": "16d10a82",
   "metadata": {
    "deletable": false,
    "editable": false
   },
   "outputs": [],
   "source": [
    "grader.check(\"q33\")"
   ]
  },
  {
   "cell_type": "markdown",
   "id": "e8e2f200-c111-44cd-8dec-aef5bab0ca5c",
   "metadata": {},
   "source": [
    "### With or Without Replacement?\n",
    "\n",
    "Each time we resampled from our original sample, we sampled **with replacement**. What would happen if we tried to resample without replacement? Let's find out!\n",
    "\n",
    "Below, we will collect another random sample of size 70 from `population` that we can then resample from. We'll call it `original_sample`."
   ]
  },
  {
   "cell_type": "code",
   "execution_count": null,
   "id": "28be5199-9862-45fd-bcea-b6871dad86a2",
   "metadata": {},
   "outputs": [],
   "source": [
    "np.random.seed(23) # Magic so that you get the same result as us – don't change this line\n",
    "original_sample = population.sample(70, with_replacement=False)\n",
    "original_sample"
   ]
  },
  {
   "cell_type": "markdown",
   "id": "b8501458-4c99-4cd9-923b-92142329848e",
   "metadata": {
    "deletable": false,
    "editable": false
   },
   "source": [
    "**Question 3.4.** Below, 5,000 times, collect a resample of size 70 **from `original_sample` without replacement**. Compute the mean-based estimate on each resample, and store the estimates in the array `estimates_without_replacement`.\n",
    "\n",
    "***Note:*** You **cannot** use your `bootstrap_estimates` function here, because that samples with replacement. Instead, you'll have to write a new for-loop. It's a good idea to start by copying the code from your function in  and changing the necessary pieces."
   ]
  },
  {
   "cell_type": "code",
   "execution_count": null,
   "id": "e725da6c-66b6-4aa0-b8bb-00eb8560ddd9",
   "metadata": {
    "tags": []
   },
   "outputs": [],
   "source": [
    "estimates_without_replacement = ...\n",
    "...\n",
    "estimates_without_replacement"
   ]
  },
  {
   "cell_type": "code",
   "execution_count": null,
   "id": "c33e6604",
   "metadata": {
    "deletable": false,
    "editable": false
   },
   "outputs": [],
   "source": [
    "grader.check(\"q34\")"
   ]
  },
  {
   "cell_type": "markdown",
   "id": "13e52d90-26fb-46fd-b8d9-9a2d957e41db",
   "metadata": {
    "deletable": false,
    "editable": false
   },
   "source": [
    "<!-- BEGIN QUESTION -->\n",
    "\n",
    "**Question 3.5** If you completed Question 3.4 correctly, you'll notice that all 5,000 of your estimates are identical, and are equal to roughly 149.5143. Furthermore, this number is equal to the mean-based estimate derived from original_sample, without any resampling:"
   ]
  },
  {
   "cell_type": "code",
   "execution_count": null,
   "id": "9521ffbf-7ee5-48b2-8333-00695549a880",
   "metadata": {
    "deletable": false,
    "editable": false
   },
   "outputs": [],
   "source": [
    "calculate_mean_based_estimate(original_sample.column('serial number'))"
   ]
  },
  {
   "cell_type": "markdown",
   "id": "0e67a087-5f3c-4c37-9bec-88c8878ade87",
   "metadata": {
    "deletable": false,
    "editable": false
   },
   "source": [
    "Why are all of our estimates identical, and why must we sample with replacement when resampling?"
   ]
  },
  {
   "cell_type": "markdown",
   "id": "7eaf63c5",
   "metadata": {},
   "source": [
    "_Type your answer here, replacing this text._"
   ]
  },
  {
   "cell_type": "markdown",
   "id": "b686b145-82e4-4220-ace3-e5d818be672a",
   "metadata": {
    "deletable": false,
    "editable": false
   },
   "source": [
    "<!-- END QUESTION -->\n",
    "\n",
    "## 4. Submission\n",
    "\n",
    "**Important submission steps:** \n",
    "1. Run the tests and verify that they all pass.\n",
    "2. Choose **Save Notebook** from the **File** menu, then **run the final cell**. \n",
    "3. Click the link to download the zip file.\n",
    "4. Then submit the zip file to the corresponding assignment according to your instructor's directions. \n",
    "\n",
    "**It is your responsibility to make sure your work is saved before running the last cell.**"
   ]
  },
  {
   "cell_type": "markdown",
   "id": "4f15cae3",
   "metadata": {
    "deletable": false,
    "editable": false
   },
   "source": [
    "## Submission\n",
    "\n",
    "Make sure you have run all cells in your notebook in order before running the cell below, so that all images/graphs appear in the output. The cell below will generate a zip file for you to submit. **Please save before exporting!**"
   ]
  },
  {
   "cell_type": "code",
   "execution_count": null,
   "id": "628a5208",
   "metadata": {
    "deletable": false,
    "editable": false
   },
   "outputs": [],
   "source": [
    "# Save your notebook first, then run this cell to export your submission.\n",
    "grader.export(pdf=False, run_tests=True)"
   ]
  },
  {
   "cell_type": "markdown",
   "id": "e72b0ccf",
   "metadata": {},
   "source": [
    " "
   ]
  }
 ],
 "metadata": {
  "kernelspec": {
   "display_name": "Python [conda env:data1202] *",
   "language": "python",
   "name": "conda-env-data1202-py"
  },
  "language_info": {
   "codemirror_mode": {
    "name": "ipython",
    "version": 3
   },
   "file_extension": ".py",
   "mimetype": "text/x-python",
   "name": "python",
   "nbconvert_exporter": "python",
   "pygments_lexer": "ipython3",
   "version": "3.10.12"
  },
  "otter": {
   "OK_FORMAT": true,
   "tests": {
    "q11": {
     "name": "q11",
     "points": [
      1,
      1,
      1,
      1
     ],
     "suites": [
      {
       "cases": [
        {
         "code": ">>> q1_1 in [1, 2, 3, 4]\nTrue",
         "hidden": false,
         "locked": false
        },
        {
         "code": ">>> q1_1 != 1\nTrue",
         "hidden": false,
         "locked": false
        },
        {
         "code": ">>> q1_1 != 3\nTrue",
         "hidden": false,
         "locked": false
        },
        {
         "code": ">>> q1_1 != 4\nTrue",
         "hidden": false,
         "locked": false
        }
       ],
       "scored": true,
       "setup": "",
       "teardown": "",
       "type": "doctest"
      }
     ]
    },
    "q12": {
     "name": "q12",
     "points": [
      3,
      3
     ],
     "suites": [
      {
       "cases": [
        {
         "code": ">>> max_based_estimate == 135\nTrue",
         "hidden": false,
         "locked": false
        },
        {
         "code": ">>> calculate_max_based_estimate(observations.column('serial number').take(np.arange(5))) == 79\nTrue",
         "hidden": false,
         "locked": false
        }
       ],
       "scored": true,
       "setup": "",
       "teardown": "",
       "type": "doctest"
      }
     ]
    },
    "q13": {
     "name": "q13",
     "points": [
      1,
      3,
      3
     ],
     "suites": [
      {
       "cases": [
        {
         "code": ">>> calculate_mean_based_estimate(np.array([1, 2, 3])) is not None\nTrue",
         "hidden": false,
         "locked": false
        },
        {
         "code": ">>> int(np.round(calculate_mean_based_estimate(np.array([1, 2, 3])))) == 4\nTrue",
         "hidden": false,
         "locked": false
        },
        {
         "code": ">>> np.isclose(mean_based_estimate, 122.470588)\nTrue",
         "hidden": false,
         "locked": false
        }
       ],
       "scored": true,
       "setup": "",
       "teardown": "",
       "type": "doctest"
      }
     ]
    },
    "q14": {
     "name": "q14",
     "points": 6,
     "suites": [
      {
       "cases": [
        {
         "code": ">>> 0 < q1_4 < 7\nTrue",
         "hidden": false,
         "locked": false
        },
        {
         "code": ">>> q1_4 != 1\nTrue",
         "hidden": false,
         "locked": false
        },
        {
         "code": ">>> q1_4 != 2\nTrue",
         "hidden": false,
         "locked": false
        },
        {
         "code": ">>> q1_4 != 4\nTrue",
         "hidden": false,
         "locked": false
        },
        {
         "code": ">>> q1_4 != 5\nTrue",
         "hidden": false,
         "locked": false
        },
        {
         "code": ">>> q1_4 != 6\nTrue",
         "hidden": false,
         "locked": false
        }
       ],
       "scored": true,
       "setup": "",
       "teardown": "",
       "type": "doctest"
      }
     ]
    },
    "q21": {
     "name": "q21",
     "points": [
      1,
      3,
      3
     ],
     "suites": [
      {
       "cases": [
        {
         "code": ">>> one_resample.num_rows == 17\nTrue",
         "hidden": false,
         "locked": false
        },
        {
         "code": ">>> all(one_resample.column('serial number').take(np.arange(5)) == [108, 57, 57, 36, 41])\nTrue",
         "hidden": false,
         "locked": false
        },
        {
         "code": ">>> np.isclose(np.mean(one_resample.column('serial number')), 60.941176)\nTrue",
         "hidden": false,
         "locked": false
        }
       ],
       "scored": true,
       "setup": "",
       "teardown": "",
       "type": "doctest"
      }
     ]
    },
    "q22": {
     "name": "q22",
     "points": 6,
     "suites": [
      {
       "cases": [
        {
         "code": ">>> set(true_statements) == set([2, 3, 4])\nTrue",
         "hidden": false,
         "locked": false
        }
       ],
       "scored": true,
       "setup": "",
       "teardown": "",
       "type": "doctest"
      }
     ]
    },
    "q23": {
     "name": "q23",
     "points": [
      2,
      2,
      2,
      2,
      2
     ],
     "suites": [
      {
       "cases": [
        {
         "code": ">>> len(example_estimates) == 10000\nTrue",
         "hidden": false,
         "locked": false
        },
        {
         "code": ">>> np.mean(example_estimates) > 0\nTrue",
         "hidden": false,
         "locked": false
        },
        {
         "code": ">>> np.mean(example_estimates) < 2000\nTrue",
         "hidden": false,
         "locked": false
        },
        {
         "code": ">>> np.mean(example_estimates) > 800\nTrue",
         "hidden": false,
         "locked": false
        },
        {
         "code": ">>> np.mean(example_estimates) < 1200\nTrue",
         "hidden": false,
         "locked": false
        }
       ],
       "scored": true,
       "setup": "",
       "teardown": "",
       "type": "doctest"
      }
     ]
    },
    "q24": {
     "name": "q24",
     "points": [
      1,
      1,
      1,
      2,
      2
     ],
     "suites": [
      {
       "cases": [
        {
         "code": ">>> len(bootstrap_mean_based_estimates) == 10000\nTrue",
         "hidden": false,
         "locked": false
        },
        {
         "code": ">>> np.mean(bootstrap_mean_based_estimates) > 0\nTrue",
         "hidden": false,
         "locked": false
        },
        {
         "code": ">>> np.mean(bootstrap_mean_based_estimates) < 200\nTrue",
         "hidden": false,
         "locked": false
        },
        {
         "code": ">>> np.mean(bootstrap_mean_based_estimates) > 118\nTrue",
         "hidden": false,
         "locked": false
        },
        {
         "code": ">>> np.mean(bootstrap_mean_based_estimates) < 126\nTrue",
         "hidden": false,
         "locked": false
        }
       ],
       "scored": true,
       "setup": "",
       "teardown": "",
       "type": "doctest"
      }
     ]
    },
    "q25": {
     "name": "q25",
     "points": [
      1,
      1,
      1,
      4
     ],
     "suites": [
      {
       "cases": [
        {
         "code": ">>> len(bootstrap_max_estimates) == 10000\nTrue",
         "hidden": false,
         "locked": false
        },
        {
         "code": ">>> np.mean(bootstrap_max_estimates) > 0\nTrue",
         "hidden": false,
         "locked": false
        },
        {
         "code": ">>> np.mean(bootstrap_max_estimates) < 200\nTrue",
         "hidden": false,
         "locked": false
        },
        {
         "code": ">>> max(bootstrap_max_estimates) <= 135\nTrue",
         "hidden": false,
         "locked": false
        }
       ],
       "scored": true,
       "setup": "",
       "teardown": "",
       "type": "doctest"
      }
     ]
    },
    "q31": {
     "name": "q31",
     "points": [
      1.5,
      1.5,
      1.5,
      1.5
     ],
     "suites": [
      {
       "cases": [
        {
         "code": ">>> np.mean(left_end_1) > 90\nTrue",
         "hidden": false,
         "locked": false
        },
        {
         "code": ">>> np.mean(left_end_1) < 100\nTrue",
         "hidden": false,
         "locked": false
        },
        {
         "code": ">>> np.mean(right_end_1) > 145\nTrue",
         "hidden": false,
         "locked": false
        },
        {
         "code": ">>> np.mean(right_end_1) < 155\nTrue",
         "hidden": false,
         "locked": false
        }
       ],
       "scored": true,
       "setup": "",
       "teardown": "",
       "type": "doctest"
      }
     ]
    },
    "q32": {
     "name": "q32",
     "points": [
      3,
      3,
      4
     ],
     "suites": [
      {
       "cases": [
        {
         "code": ">>> np.std(new_bootstrap_estimates) > 5\nTrue",
         "hidden": false,
         "locked": false
        },
        {
         "code": ">>> np.std(new_bootstrap_estimates) < 20\nTrue",
         "hidden": false,
         "locked": false
        },
        {
         "code": ">>> 0 < new_right_end - new_left_end < 75\nTrue",
         "hidden": false,
         "locked": false
        }
       ],
       "scored": true,
       "setup": "",
       "teardown": "",
       "type": "doctest"
      }
     ]
    },
    "q33": {
     "name": "q33",
     "points": [
      1,
      1.5,
      1.5,
      1.5,
      1.5
     ],
     "suites": [
      {
       "cases": [
        {
         "code": ">>> 0 < q3_3 < 6\nTrue",
         "hidden": false,
         "locked": false
        },
        {
         "code": ">>> q3_3 != 1\nTrue",
         "hidden": false,
         "locked": false
        },
        {
         "code": ">>> q3_3 != 2\nTrue",
         "hidden": false,
         "locked": false
        },
        {
         "code": ">>> q3_3 != 4\nTrue",
         "hidden": false,
         "locked": false
        },
        {
         "code": ">>> q3_3 != 5\nTrue",
         "hidden": false,
         "locked": false
        }
       ],
       "scored": true,
       "setup": "",
       "teardown": "",
       "type": "doctest"
      }
     ]
    },
    "q34": {
     "name": "q34",
     "points": [
      2,
      8
     ],
     "suites": [
      {
       "cases": [
        {
         "code": ">>> len(estimates_without_replacement) == 5000\nTrue",
         "hidden": false,
         "locked": false
        },
        {
         "code": ">>> np.all(np.isclose(estimates_without_replacement, 149.51428571))\nTrue",
         "hidden": false,
         "locked": false
        }
       ],
       "scored": true,
       "setup": "",
       "teardown": "",
       "type": "doctest"
      }
     ]
    }
   }
  }
 },
 "nbformat": 4,
 "nbformat_minor": 5
}
