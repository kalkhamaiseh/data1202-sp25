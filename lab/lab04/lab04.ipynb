{
 "cells": [
  {
   "cell_type": "code",
   "execution_count": null,
   "id": "28c92149",
   "metadata": {
    "deletable": false,
    "editable": false
   },
   "outputs": [],
   "source": [
    "# Initialize Otter\n",
    "import otter\n",
    "grader = otter.Notebook(\"lab04.ipynb\")"
   ]
  },
  {
   "cell_type": "markdown",
   "id": "cff101d0-89b7-42b2-a98b-d3ca06aa07d9",
   "metadata": {},
   "source": [
    "# Lab 4: Tables and Visualizations \n",
    "\n",
    "Welcome to Lab 4! \n",
    "\n",
    "We are moving into additional functions with tables as well as ways to visualize data. \n",
    "\n",
    "The [Python Reference](https://pages.mtu.edu/~lebrown/data1202-s24/reference/index.html) has information that will be useful for this lab.\n",
    "\n",
    "**Recommended Reading**:\n",
    " * [Tables](https://inferentialthinking.com/chapters/06/Tables.html)\n",
    " * [Visualizing Categorical Distributions](https://inferentialthinking.com/chapters/07/1/Visualizing_Categorical_Distributions.html)\n",
    " * [Visualizing Numerical Distributions](https://inferentialthinking.com/chapters/07/2/Visualizing_Numerical_Distributions.html)\n",
    "\n",
    "\n",
    "**Submission**: Once you’re finished, run all cells besides the last one, select File > Save Notebook, and then execute the final cell. Then submit the downloaded zip file, that includes your notebook,  according to your instructor's directions."
   ]
  },
  {
   "cell_type": "code",
   "execution_count": null,
   "id": "4ec9e0d1-8981-4551-a5c3-5e4e0ee25e70",
   "metadata": {},
   "outputs": [],
   "source": [
    "# Just run this cell\n",
    "import numpy as np\n",
    "import math\n",
    "from datascience import *\n",
    "\n",
    "%matplotlib inline\n",
    "import matplotlib.pyplot as plots\n",
    "plots.style.use('fivethirtyeight')"
   ]
  },
  {
   "cell_type": "markdown",
   "id": "ff0172f0-8a9e-49dd-bf90-9fd1f89845cc",
   "metadata": {},
   "source": [
    "# Cal Football \n",
    "\n",
    "This lab we will be working with a file `\"football.csv\"`, which contains information about the Cal football team. \n"
   ]
  },
  {
   "cell_type": "markdown",
   "id": "75303f9a-ca03-4f53-9823-3facfe2cef34",
   "metadata": {
    "deletable": false,
    "editable": false
   },
   "source": [
    "### Load table from the file \n",
    "\n",
    "**Question 1.1** \n",
    "Load the data file into a table called `cal`. "
   ]
  },
  {
   "cell_type": "code",
   "execution_count": null,
   "id": "456aa958-5067-4cdb-9e5f-956c0b57f758",
   "metadata": {
    "tags": []
   },
   "outputs": [],
   "source": [
    "cal = ...\n",
    "cal.show(10)"
   ]
  },
  {
   "cell_type": "code",
   "execution_count": null,
   "id": "2ceea1a3",
   "metadata": {
    "deletable": false,
    "editable": false
   },
   "outputs": [],
   "source": [
    "grader.check(\"q11\")"
   ]
  },
  {
   "cell_type": "markdown",
   "id": "1c5f5e97-426a-445f-a5ef-6bba20f9c733",
   "metadata": {
    "deletable": false,
    "editable": false
   },
   "source": [
    "### Excluding columns: `drop` \n",
    "\n",
    "We now have information about Cal Football's seasons since statistics were kept. Because this file was pulled from the internet, it may have some data in it that we are not interested in, like the rows with a bunch of `nan` values (`nan` means \"Not a number\", and it is commonly used to indicate there is no value there).\n",
    "\n",
    "**Caution**: It is not a good idea to blindly drop all columns with several NaN values from a table. What information would have been lost if we just dropped all missing values?\n",
    "\n",
    "However, for the sake of this exercise, we'll do so. We can use the `drop` method to remove columns like this from the table. \n",
    "\n",
    "\n",
    "**Question 1.2** \n",
    "Let's drop the `Notes` column. \n",
    "\n",
    "Let's also drop the `AP Pre`, `AP High`, `AP Post`, `SRS` and `SOS` columns from the table. These are statistics specific to college football, and they are not important for what we're doing. `drop` can take in as many columns as you need, and it will drop them all from the table.\n",
    "\n",
    "Call the new table `cal_improved_columns`"
   ]
  },
  {
   "cell_type": "code",
   "execution_count": null,
   "id": "62035e4e-13fc-479e-aa97-5ea99fc4c699",
   "metadata": {
    "tags": []
   },
   "outputs": [],
   "source": [
    "cal_improved_columns = ...\n",
    "cal_improved_columns.show(5)"
   ]
  },
  {
   "cell_type": "code",
   "execution_count": null,
   "id": "1e92dd66",
   "metadata": {
    "deletable": false,
    "editable": false
   },
   "outputs": [],
   "source": [
    "grader.check(\"q12\")"
   ]
  },
  {
   "cell_type": "markdown",
   "id": "62358d2c-3291-4f64-bb45-d1eb08e50331",
   "metadata": {
    "deletable": false,
    "editable": false
   },
   "source": [
    "### Querying \n",
    "\n",
    "**Question 1.3**\n",
    "Let's try querying our new table using the `column` method to determine which conferences Cal has played in during its history. This information is contained within the `\"Conf\"` column of the `cal_improved_columns` table.\n",
    "\n",
    "Use the `np.unique` method to only list the conferences once. "
   ]
  },
  {
   "cell_type": "code",
   "execution_count": null,
   "id": "817a1b78-b674-4504-87a8-7b1b4f5d1fff",
   "metadata": {
    "tags": []
   },
   "outputs": [],
   "source": [
    "conference_list = ...\n",
    "conference_list"
   ]
  },
  {
   "cell_type": "code",
   "execution_count": null,
   "id": "dde794df",
   "metadata": {
    "deletable": false,
    "editable": false
   },
   "outputs": [],
   "source": [
    "grader.check(\"q13\")"
   ]
  },
  {
   "cell_type": "markdown",
   "id": "9b59001d-40e4-4b9d-9a22-f578c71da480",
   "metadata": {
    "deletable": false,
    "editable": false
   },
   "source": [
    "### Picking columns: `select`\n",
    "\n",
    "It appears that there are also several other columns that we are not very interested in. Instead of dropping several columns, we can use the `select` method to grab only the columns we want. \n",
    "\n",
    "**Question 1.4:** In this case, we only want to keep the `\"Year\"`, `\"W\"`, `\"L\"`, `\"T\"`, and `\"Pct\"`,  columns. Fill in the following code so that the `football` table has only the relevant columns."
   ]
  },
  {
   "cell_type": "code",
   "execution_count": null,
   "id": "89f3cf60-62a1-480b-8892-0f9caa5f61d5",
   "metadata": {
    "tags": []
   },
   "outputs": [],
   "source": [
    "football = ...\n",
    "football.show(5)"
   ]
  },
  {
   "cell_type": "code",
   "execution_count": null,
   "id": "bf82dde4",
   "metadata": {
    "deletable": false,
    "editable": false
   },
   "outputs": [],
   "source": [
    "grader.check(\"q14\")"
   ]
  },
  {
   "cell_type": "markdown",
   "id": "1dbd1aa6-8a7d-4237-881d-2afc7f4da956",
   "metadata": {
    "deletable": false,
    "editable": false
   },
   "source": [
    "### Changing column labels: `relabeled`\n",
    "\n",
    "We can rename column labels using the `relabeled` method. With this function, you are able to:\n",
    "1. Relabel a *single column*\n",
    "2. Relabel *several columns* at once\n",
    "\n",
    "To change the names of multiple columns, we pass in an array of the old names and an array of the new names as the 2 inputs to `relabeled`.\n",
    "\n",
    "*Note*: You may see another method called `relabel` in the `datascience` documenation. Please avoid using this,as it can change your data when you may not want to.*"
   ]
  },
  {
   "cell_type": "markdown",
   "id": "663d7b16-6747-4df5-9284-c678b9c98bf5",
   "metadata": {
    "deletable": false,
    "editable": false
   },
   "source": [
    "**Question 1.5:** Some of the columns in the `football` table have labels that may not be best for what they store. Let's change the column labels to the following:\n",
    "\n",
    "- `\"W\"` should be changed to `\"Wins\"`\n",
    "- `\"L\"` should be changed to `\"Losses\"`\n",
    "- `\"T\"` should be changed to `\"Ties\"`\n",
    "- `\"Pct\"` should be changed to `\"Winning Percentage\"`\n",
    "\n",
    "*Hint*: We've provided skeleton code for you to use."
   ]
  },
  {
   "cell_type": "code",
   "execution_count": null,
   "id": "c6f200f8-3171-4cf1-8fd4-f474f493d1a0",
   "metadata": {
    "tags": []
   },
   "outputs": [],
   "source": [
    "old_names = ...\n",
    "new_names = ...\n",
    "\n",
    "football_relabeled = football.relabeled(..., ...)\n",
    "\n",
    "football_relabeled.show(5)"
   ]
  },
  {
   "cell_type": "code",
   "execution_count": null,
   "id": "d116b2d1",
   "metadata": {
    "deletable": false,
    "editable": false
   },
   "outputs": [],
   "source": [
    "grader.check(\"q15\")"
   ]
  },
  {
   "cell_type": "markdown",
   "id": "20cf4180-a0d0-4413-9252-baea7e067344",
   "metadata": {},
   "source": [
    "# More Table Operations\n",
    "\n",
    "Now that we have the table we want, let's try to write some code that tells us some information about Cal Football's wins. Let's write three queries that can help us answer these three questions. \n",
    "\n",
    "1. What is the most wins Cal has ever had in one season?\n",
    "2. How many total games has Cal lost?\n",
    "3. What is the average number of games Cal each every year?\n"
   ]
  },
  {
   "cell_type": "markdown",
   "id": "af18aedb-b360-4516-9533-f8716f463b19",
   "metadata": {
    "deletable": false,
    "editable": false
   },
   "source": [
    "**Question 2.1**: What is the most wins Cal has ever had in one season?"
   ]
  },
  {
   "cell_type": "code",
   "execution_count": null,
   "id": "4e368895-48cc-4485-8f5e-5575e1a33bf1",
   "metadata": {
    "tags": []
   },
   "outputs": [],
   "source": [
    "most_wins_ever = ...\n",
    "most_wins_ever"
   ]
  },
  {
   "cell_type": "code",
   "execution_count": null,
   "id": "c0feb828",
   "metadata": {
    "deletable": false,
    "editable": false
   },
   "outputs": [],
   "source": [
    "grader.check(\"q21\")"
   ]
  },
  {
   "cell_type": "markdown",
   "id": "c404fadc-bf04-433a-aad8-f900edae056e",
   "metadata": {
    "deletable": false,
    "editable": false
   },
   "source": [
    "**Question 2.2 (Losses)** For the following question, use a `NumPy` function, the `football_relabeled` table, and some table method to answer the following question:\n",
    "\n",
    ">How many total games has Cal lost?\n",
    "\n",
    "Assign the value to the variable `games_lost_alltime`."
   ]
  },
  {
   "cell_type": "code",
   "execution_count": null,
   "id": "f69374d2-83f4-41c8-aee4-32cb512bc49e",
   "metadata": {
    "tags": []
   },
   "outputs": [],
   "source": [
    "games_lost_alltime = ...\n",
    "games_lost_alltime"
   ]
  },
  {
   "cell_type": "code",
   "execution_count": null,
   "id": "85dde0f3",
   "metadata": {
    "deletable": false,
    "editable": false
   },
   "outputs": [],
   "source": [
    "grader.check(\"q22\")"
   ]
  },
  {
   "cell_type": "markdown",
   "id": "54ed7770-0f30-4c48-ac13-f5bea1d592f2",
   "metadata": {
    "deletable": false,
    "editable": false
   },
   "source": [
    "**Question 2.3 (Wins)**: Similar to above, let's answer the third question using a combination of a function, table, and table method:\n",
    "\n",
    ">What is the average numnber of games Cal wins each year?\n",
    "\n",
    "Assign your answer to the variable `average_wins`."
   ]
  },
  {
   "cell_type": "code",
   "execution_count": null,
   "id": "3a17b6e5-9e2f-46a5-aa24-ed92d3e55e9f",
   "metadata": {
    "tags": []
   },
   "outputs": [],
   "source": [
    "average_wins = ...\n",
    "average_wins"
   ]
  },
  {
   "cell_type": "code",
   "execution_count": null,
   "id": "762217b0",
   "metadata": {
    "deletable": false,
    "editable": false
   },
   "outputs": [],
   "source": [
    "grader.check(\"q23\")"
   ]
  },
  {
   "cell_type": "markdown",
   "id": "9d78a343-0f83-4881-b7e2-2c414da6371f",
   "metadata": {},
   "source": [
    "### Interpreting Our Data\n",
    "\n",
    "What does winning 5.52 games even mean?! Well, this means you can (roughly) expect Cal to win 5-6 games a year. \n",
    "\n",
    "While this is not a perfect statistic (some seasons are longer than others, football is a completely different game than it was a long time ago, etc.), in a 12-13 game season, do you think this a good amount of wins? The answer to this question is not concrete, and even with data to back up either side, neither answer seems more right than the other.\n",
    "\n",
    "**Important**: Data science is not only being able to *compute* the answers to questions, but also forming thoughtful questions in response to your findings.  As well as understanding the limitations of your analysis. "
   ]
  },
  {
   "cell_type": "markdown",
   "id": "e0481906-7eda-46fa-8c48-7efdc3835cfd",
   "metadata": {},
   "source": [
    "### Sorting a column: `sort`\n",
    "\n",
    "Let's say we want to ask the question: **What is Cal's best season ever?**. There are many ways to answer the question, but you may argue that a season with the most wins or the fewest losses could be considered the best:"
   ]
  },
  {
   "cell_type": "code",
   "execution_count": null,
   "id": "0a35e0dd-1132-4968-b56f-5133a6ca646a",
   "metadata": {},
   "outputs": [],
   "source": [
    "# We can sort in descending order\n",
    "football_relabeled.sort(\"Wins\", descending=True).show(5)"
   ]
  },
  {
   "cell_type": "code",
   "execution_count": null,
   "id": "b8bdac8e-e53e-41f2-a13f-7a6530095940",
   "metadata": {},
   "outputs": [],
   "source": [
    "# Or we can sort in ascending order\n",
    "football_relabeled.sort(\"Losses\", descending=False).show(5)"
   ]
  },
  {
   "cell_type": "markdown",
   "id": "6db34f02-b4a9-43ec-b519-9935ca6da2ef",
   "metadata": {},
   "source": [
    "As you can see, queries about the most wins and the fewest losses can both answer the question **What is Cal's best season ever?** in different ways. Note that the same seasons do not necessarily show up in the top of each queried table."
   ]
  },
  {
   "cell_type": "markdown",
   "id": "2c10bb7b-5fb1-4ba7-ada9-65339b919f0c",
   "metadata": {
    "deletable": false,
    "editable": false
   },
   "source": [
    "**Question 2.4**: Yet another way to answer this question about Cal's best seasons ever is to sort by winning percentage. Assign the variable `best_win_pct_year` to the year corresponding to the season with the **highest winning percentage**.\n",
    "\n",
    "To do so, we want to assign `seasons_sorted` to the result of a table query sorting the `football_relabeled` table by winning percentage in **descending** order. \n",
    "\n",
    "*Note*: We want descending order because we want the best seasons **at the top of the table**."
   ]
  },
  {
   "cell_type": "code",
   "execution_count": null,
   "id": "4b6e16ce-4a8a-4aef-a6a8-93970d788951",
   "metadata": {
    "tags": []
   },
   "outputs": [],
   "source": [
    "seasons_sorted = ...\n",
    "best_win_pct_year = ...\n",
    "best_win_pct_year"
   ]
  },
  {
   "cell_type": "code",
   "execution_count": null,
   "id": "b719853e",
   "metadata": {
    "deletable": false,
    "editable": false
   },
   "outputs": [],
   "source": [
    "grader.check(\"q24\")"
   ]
  },
  {
   "cell_type": "markdown",
   "id": "d42f1861-fa5f-429c-8ad7-a2e433725ada",
   "metadata": {},
   "source": [
    "### Row selection: `where` and the `are` Predicates\n",
    "\n",
    "The last table method we will talk about is the `where` method. The `where` method keeps all rows that satisfiy a particular boolean condition. It takes in a column label and an `are` statement, which can be crafted using the `are` library. These are the most important `are` library methods, but there are many more if you would like to investigate: [Explore the 'are' library here.](http://data8.org/datascience/predicates.html)\n",
    "\n",
    "| Method | Input Type | Method Description |\n",
    "| --- | --- | --- |\n",
    "| `are.equal_to(n)` | number | Is the value from the column equal to `n`? |\n",
    "| `are.above(n)` | number | Is the value from the column above `n`? |\n",
    "| `are.above_or_equal_to(n)` | number | Is the value from the column above or equal to `n`? |\n",
    "| `are.below(n)` | number | Is the value from the column below `n`? |\n",
    "| `are.below_or_equal_to(n)` | number | Is the value from the column below or equal `n`? |\n",
    "| `are.containing(s)` | string | Is `s` contained in the string value from the given column? |\n",
    "| `are.containined_in(s)` | string | Is the string value from the given column contained in `s`? |\n",
    "\n",
    "Adding a `not_` in front of all of these methods makes each method do the opposite of what it does (ex: `are.not_equal_to(n)`).\n",
    "\n",
    "*Note*: As we've seen in lecture, we can achieve an **exact match** by not explicitly using an `are` predicate. That is, `where(\"col\", are.equal_to(\"something\")` is identical to `where(\"col\", \"something\")`; the latter is shorthand for the former.\n",
    "\n",
    "For example, if we only wanted to see the Cal Football seasons where Cal had a tie, we could use the `where()` method combined with an `are` method:"
   ]
  },
  {
   "cell_type": "code",
   "execution_count": null,
   "id": "d517517e-43e5-438c-95c8-1015dc2eb2e0",
   "metadata": {},
   "outputs": [],
   "source": [
    "football_relabeled.where(\"Ties\", are.above(0)).show(5)"
   ]
  },
  {
   "cell_type": "markdown",
   "id": "c248dd4b-05e3-4cd6-8040-31dccba6c3e4",
   "metadata": {},
   "source": [
    "For the 2021 season, Cal will play 12 games. If we wanted to see Cal's worst seasons where they lost more than 6 games, we can use a similar query:"
   ]
  },
  {
   "cell_type": "code",
   "execution_count": null,
   "id": "6d7e9268-b826-4327-99ea-3f491ec37b68",
   "metadata": {},
   "outputs": [],
   "source": [
    "football_relabeled.where(\"Losses\", are.above(6)).show(5)"
   ]
  },
  {
   "cell_type": "markdown",
   "id": "4e1b5663-c350-47da-86cd-8bf1dcb7cc72",
   "metadata": {
    "deletable": false,
    "editable": false
   },
   "source": [
    "**Question 2.5 (Bowl Eligibility)**: In college football, a team advances to the post-season (to play \"bowl games\") if they have a winning/non-losing record. In other words, you must having a winning percentage of at least 0.500 to become eligible to play in a bowl game.\n",
    "\n",
    "Assign the variable `bowl_eligible` to a float that describes the proportion of times in which Cal was eligible to play in college bowls throughout its history, based on their winning percentage.   \n",
    "\n",
    "*Hint:* If you're stuck, feel free to add additional variables *before* you assign the float to `bowl_eligible`. It's often easier to break down these problems into multiple steps to make sure you're properly calculating each step and performing them in the right order. \n",
    "\n"
   ]
  },
  {
   "cell_type": "code",
   "execution_count": null,
   "id": "482d636a-41a8-4331-a749-cdb0e1dd5a78",
   "metadata": {
    "tags": []
   },
   "outputs": [],
   "source": [
    "bowl_eligible = ...\n",
    "bowl_eligible"
   ]
  },
  {
   "cell_type": "code",
   "execution_count": null,
   "id": "2b91f0e3",
   "metadata": {
    "deletable": false,
    "editable": false
   },
   "outputs": [],
   "source": [
    "grader.check(\"q25\")"
   ]
  },
  {
   "cell_type": "markdown",
   "id": "5d3eb3e0-c73c-470f-aa82-4228c81c314e",
   "metadata": {},
   "source": [
    "# Visualization \n",
    "\n",
    "Let's look at some of the patterns in the Cal football data. \n",
    "\n",
    "In Question 1.3, we observed that Cal has played seasons in different conferences. \n",
    "\n",
    "Suppose we want to look at the number of seasons Cal has played in the different conferences. \n",
    "\n",
    "We can get this data with the `group` function.  You will learn more about this function next week. \n",
    "\n"
   ]
  },
  {
   "cell_type": "code",
   "execution_count": null,
   "id": "d06d11d1-0b51-4740-b7b9-cae43d0a5822",
   "metadata": {},
   "outputs": [],
   "source": [
    "seasons_in_conf = cal_improved_columns.select(\"Conf\").group(\"Conf\")\n",
    "seasons_in_conf"
   ]
  },
  {
   "cell_type": "markdown",
   "id": "01cba180-4c3b-44e4-8ec5-eb744f17469f",
   "metadata": {
    "deletable": false,
    "editable": false
   },
   "source": [
    "**Question 3.1** \n",
    "What would be the best type of chart to display the number of seasons played in each conference?\n",
    "\n",
    "1. Line Plot\n",
    "2. Scatter Plot\n",
    "3. Bar Chart\n",
    "4. Histogram\n",
    "\n",
    "Put your answer (1, 2, 3, 4) in `q31_chart_type`"
   ]
  },
  {
   "cell_type": "code",
   "execution_count": null,
   "id": "59aa7f54-be25-4db3-a8e3-95a13b23afb9",
   "metadata": {
    "tags": []
   },
   "outputs": [],
   "source": [
    "q31_chart_type = ..."
   ]
  },
  {
   "cell_type": "code",
   "execution_count": null,
   "id": "c10b8593",
   "metadata": {
    "deletable": false,
    "editable": false
   },
   "outputs": [],
   "source": [
    "grader.check(\"q31\")"
   ]
  },
  {
   "cell_type": "markdown",
   "id": "e876733d-3357-4160-a921-174cb5f95df4",
   "metadata": {
    "deletable": false,
    "editable": false
   },
   "source": [
    "<!-- BEGIN QUESTION -->\n",
    "\n",
    "**Question 3.2**  Make the cart displaying the number of seasons played in each conference. \n",
    "\n",
    "*Note, it is good practice to have the information sorted in the presentation*"
   ]
  },
  {
   "cell_type": "code",
   "execution_count": null,
   "id": "1399e584-ca6e-4d41-bac3-212521924cc9",
   "metadata": {
    "tags": []
   },
   "outputs": [],
   "source": [
    "..."
   ]
  },
  {
   "cell_type": "markdown",
   "id": "4340a6aa-9004-43ac-b7f7-8aafefa47337",
   "metadata": {
    "deletable": false,
    "editable": false
   },
   "source": [
    "<!-- END QUESTION -->\n",
    "\n",
    "<!-- BEGIN QUESTION -->\n",
    "\n",
    "**Question 3.3** \n",
    "We want to look at the number of wins for the years when Cal played in the \"Pac-10\" conference. \n",
    "\n",
    "Use the `cal_improved_columns` Table. "
   ]
  },
  {
   "cell_type": "code",
   "execution_count": null,
   "id": "cecb3e77-bf58-4aa7-ad3c-87d4c5d7ed29",
   "metadata": {
    "tags": []
   },
   "outputs": [],
   "source": [
    "..."
   ]
  },
  {
   "cell_type": "markdown",
   "id": "91342300-5961-4d13-88aa-2051e4b119ef",
   "metadata": {
    "deletable": false,
    "editable": false
   },
   "source": [
    "<!-- END QUESTION -->\n",
    "\n",
    "<!-- BEGIN QUESTION -->\n",
    "\n",
    "Let's now look at the relationship between the number of games won vs. the number of games lost. \n",
    "\n",
    "**Question 3.4** \n",
    "Plot the relationship between the number of game won (x-axis) against the number of games lost (y-axis). Only plot data points when Cal played for any of the \"Pac\" conferences, that is \"Pac-8\", \"Pac-10\" or \"Pac-12\" \n",
    "\n",
    "Look at the options for the [`where`](https://www.data8.org/datascience/reference-nb/datascience-reference.html#Table.where-Predicates)"
   ]
  },
  {
   "cell_type": "code",
   "execution_count": null,
   "id": "a26a1c7f-c507-4637-bb6a-6738b1d48832",
   "metadata": {
    "tags": []
   },
   "outputs": [],
   "source": [
    "..."
   ]
  },
  {
   "cell_type": "markdown",
   "id": "eec3cc25-ae31-461c-b139-bf18e519e06e",
   "metadata": {
    "deletable": false,
    "editable": false
   },
   "source": [
    "<!-- END QUESTION -->\n",
    "\n",
    "This plot as expected shows a relationship between wins and losses, because there are only a fixed number of games in a season (11-14). \n",
    "\n",
    "However, the plot does have one outlier. "
   ]
  },
  {
   "cell_type": "markdown",
   "id": "13aa441c-74ef-40dd-9156-040433f9b20d",
   "metadata": {
    "deletable": false,
    "editable": false
   },
   "source": [
    "<!-- BEGIN QUESTION -->\n",
    "\n",
    "**Question 3.5** Briefly explain that outlier point in the plot above. \n"
   ]
  },
  {
   "cell_type": "markdown",
   "id": "4f9a1081",
   "metadata": {},
   "source": [
    "_Type your answer here, replacing this text._"
   ]
  },
  {
   "cell_type": "markdown",
   "id": "f85d370b-df05-471a-8103-5311c4e419bf",
   "metadata": {
    "deletable": false,
    "editable": false
   },
   "source": [
    "<!-- END QUESTION -->\n",
    "\n",
    "<!-- BEGIN QUESTION -->\n",
    "\n",
    "Let's now look at the *distribution* of winning percentage. \n",
    "\n",
    "**Question 3.6** Make a histogram of the `Win Percentage` in the `football_relabeld` table. Use bins that make sense, e.g., 0, 1, 2, 3 wins, etc. "
   ]
  },
  {
   "cell_type": "code",
   "execution_count": null,
   "id": "338b9fd4-957c-4095-9c58-08d3fb4ca408",
   "metadata": {
    "tags": []
   },
   "outputs": [],
   "source": [
    "..."
   ]
  },
  {
   "cell_type": "markdown",
   "id": "ed4f7e38-b107-46ba-b32e-d7eb06d66218",
   "metadata": {
    "deletable": false,
    "editable": false
   },
   "source": [
    "<!-- END QUESTION -->\n",
    "\n",
    "# Submission \n",
    "\n",
    "**Important submission steps:** \n",
    "1. Run the tests and verify that they all pass.\n",
    "2. Choose **Save Notebook** from the **File** menu, then **run the final cell**. \n",
    "3. Click the link to download the zip file.\n",
    "4. Then submit the zip file to the corresponding assignment according to your instructor's directions. \n",
    "\n",
    "**It is your responsibility to make sure your work is saved before running the last cell.**"
   ]
  },
  {
   "cell_type": "markdown",
   "id": "e00acc0f",
   "metadata": {
    "deletable": false,
    "editable": false
   },
   "source": [
    "## Submission\n",
    "\n",
    "Make sure you have run all cells in your notebook in order before running the cell below, so that all images/graphs appear in the output. The cell below will generate a zip file for you to submit. **Please save before exporting!**"
   ]
  },
  {
   "cell_type": "code",
   "execution_count": null,
   "id": "225a0aa6",
   "metadata": {
    "deletable": false,
    "editable": false
   },
   "outputs": [],
   "source": [
    "# Save your notebook first, then run this cell to export your submission.\n",
    "grader.export(pdf=False, run_tests=True)"
   ]
  },
  {
   "cell_type": "markdown",
   "id": "99ecc16f",
   "metadata": {},
   "source": [
    " "
   ]
  }
 ],
 "metadata": {
  "kernelspec": {
   "display_name": "Python [conda env:data1202] *",
   "language": "python",
   "name": "conda-env-data1202-py"
  },
  "language_info": {
   "codemirror_mode": {
    "name": "ipython",
    "version": 3
   },
   "file_extension": ".py",
   "mimetype": "text/x-python",
   "name": "python",
   "nbconvert_exporter": "python",
   "pygments_lexer": "ipython3",
   "version": "3.10.12"
  },
  "otter": {
   "OK_FORMAT": true,
   "tests": {
    "q11": {
     "name": "q11",
     "points": null,
     "suites": [
      {
       "cases": [
        {
         "code": ">>> type(cal) == tables.Table\nTrue",
         "hidden": false,
         "locked": false
        },
        {
         "code": ">>> cal.num_rows == 105\nTrue",
         "hidden": false,
         "locked": false
        },
        {
         "code": ">>> cal.num_columns == 15\nTrue",
         "hidden": false,
         "locked": false
        },
        {
         "code": ">>> all(cal.sort(6).take(range(4, 8)).column(0) == make_array(60, 35, 37, 40))\nTrue",
         "hidden": false,
         "locked": false
        }
       ],
       "scored": true,
       "setup": "",
       "teardown": "",
       "type": "doctest"
      }
     ]
    },
    "q12": {
     "name": "q12",
     "points": null,
     "suites": [
      {
       "cases": [
        {
         "code": ">>> cal_improved_columns.num_columns == 9\nTrue",
         "hidden": false,
         "locked": false
        },
        {
         "code": ">>> cal_improved_columns.labels == ('Rk', 'Year', 'Conf', 'W', 'L', 'T', 'Pct', 'Coach(es)', 'Bowl')\nTrue",
         "hidden": false,
         "locked": false
        }
       ],
       "scored": true,
       "setup": "",
       "teardown": "",
       "type": "doctest"
      }
     ]
    },
    "q13": {
     "name": "q13",
     "points": null,
     "suites": [
      {
       "cases": [
        {
         "code": ">>> len(conference_list) == 5\nTrue",
         "hidden": false,
         "locked": false
        },
        {
         "code": ">>> 'AAWU' in conference_list and 'PCC' in conference_list\nTrue",
         "hidden": false,
         "locked": false
        },
        {
         "code": ">>> 'Pac-10' in conference_list and 'Pac-8' in conference_list\nTrue",
         "hidden": false,
         "locked": false
        },
        {
         "code": ">>> 'Pac-12' in conference_list\nTrue",
         "hidden": false,
         "locked": false
        }
       ],
       "scored": true,
       "setup": "",
       "teardown": "",
       "type": "doctest"
      }
     ]
    },
    "q14": {
     "name": "q14",
     "points": null,
     "suites": [
      {
       "cases": [
        {
         "code": ">>> type(football) == tables.Table\nTrue",
         "hidden": false,
         "locked": false
        },
        {
         "code": ">>> set(football.labels) == set(('Year', 'W', 'L', 'T', 'Pct'))\nTrue",
         "hidden": false,
         "locked": false
        },
        {
         "code": ">>> football.num_rows == 105\nTrue",
         "hidden": false,
         "locked": false
        }
       ],
       "scored": true,
       "setup": "",
       "teardown": "",
       "type": "doctest"
      }
     ]
    },
    "q15": {
     "name": "q15",
     "points": null,
     "suites": [
      {
       "cases": [
        {
         "code": ">>> isinstance(football_relabeled, Table)\nTrue",
         "hidden": false,
         "locked": false
        },
        {
         "code": ">>> set(football_relabeled.labels) == set(('Year', 'Wins', 'Losses', 'Ties', 'Win Percentage'))\nTrue",
         "hidden": false,
         "locked": false
        },
        {
         "code": ">>> football_relabeled.num_rows == 105\nTrue",
         "hidden": false,
         "locked": false
        }
       ],
       "scored": true,
       "setup": "",
       "teardown": "",
       "type": "doctest"
      }
     ]
    },
    "q21": {
     "name": "q21",
     "points": null,
     "suites": [
      {
       "cases": [
        {
         "code": ">>> type(most_wins_ever) in set([int, np.int32, np.int64])\nTrue",
         "hidden": false,
         "locked": false
        },
        {
         "code": ">>> most_wins_ever == 10\nTrue",
         "hidden": false,
         "locked": false
        }
       ],
       "scored": true,
       "setup": "",
       "teardown": "",
       "type": "doctest"
      }
     ]
    },
    "q22": {
     "name": "q22",
     "points": null,
     "suites": [
      {
       "cases": [
        {
         "code": ">>> type(games_lost_alltime) in set([int, np.int32, np.int64])\nTrue",
         "hidden": false,
         "locked": false
        },
        {
         "code": ">>> games_lost_alltime == 521\nTrue",
         "hidden": false,
         "locked": false
        }
       ],
       "scored": true,
       "setup": "",
       "teardown": "",
       "type": "doctest"
      }
     ]
    },
    "q23": {
     "name": "q23",
     "points": null,
     "suites": [
      {
       "cases": [
        {
         "code": ">>> type(average_wins) in set([float, np.float32, np.float64])\nTrue",
         "hidden": false,
         "locked": false
        },
        {
         "code": ">>> np.isclose(average_wins, 5.523809523809524)\nTrue",
         "hidden": false,
         "locked": false
        }
       ],
       "scored": true,
       "setup": "",
       "teardown": "",
       "type": "doctest"
      }
     ]
    },
    "q24": {
     "name": "q24",
     "points": null,
     "suites": [
      {
       "cases": [
        {
         "code": ">>> isinstance(seasons_sorted, Table)\nTrue",
         "hidden": false,
         "locked": false
        },
        {
         "code": ">>> seasons_sorted.row(0).item('Year') == 1922\nTrue",
         "hidden": false,
         "locked": false
        },
        {
         "code": ">>> type(best_win_pct_year) in set([int, np.int32, np.int64])\nTrue",
         "hidden": false,
         "locked": false
        },
        {
         "code": ">>> best_win_pct_year == 1922\nTrue",
         "hidden": false,
         "locked": false
        }
       ],
       "scored": true,
       "setup": "",
       "teardown": "",
       "type": "doctest"
      }
     ]
    },
    "q25": {
     "name": "q25",
     "points": null,
     "suites": [
      {
       "cases": [
        {
         "code": ">>> type(bowl_eligible) in set([float, np.float32, np.float64])\nTrue",
         "hidden": false,
         "locked": false
        },
        {
         "code": ">>> np.isclose(bowl_eligible, 0.580952380952381)\nTrue",
         "hidden": false,
         "locked": false
        }
       ],
       "scored": true,
       "setup": "",
       "teardown": "",
       "type": "doctest"
      }
     ]
    },
    "q31": {
     "name": "q31",
     "points": null,
     "suites": [
      {
       "cases": [
        {
         "code": ">>> q31_chart_type in [1, 2, 3, 4]\nTrue",
         "hidden": false,
         "locked": false
        }
       ],
       "scored": true,
       "setup": "",
       "teardown": "",
       "type": "doctest"
      }
     ]
    }
   }
  }
 },
 "nbformat": 4,
 "nbformat_minor": 5
}
